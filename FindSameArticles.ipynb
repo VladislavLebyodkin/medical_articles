{
 "cells": [
  {
   "cell_type": "markdown",
   "metadata": {},
   "source": [
    "### Module for searching articles"
   ]
  },
  {
   "cell_type": "code",
   "execution_count": 1,
   "metadata": {},
   "outputs": [],
   "source": [
    "articles_count = 10000\n",
    "similar_art_count = 20\n",
    "your_entrez_email = ''"
   ]
  },
  {
   "cell_type": "code",
   "execution_count": 2,
   "metadata": {},
   "outputs": [],
   "source": [
    "from Bio import Entrez\n",
    "import json\n",
    "from datetime import date\n",
    "\n",
    "from sklearn.feature_extraction.text import TfidfVectorizer\n",
    "\n",
    "import numpy as np\n",
    "import pandas as pd"
   ]
  },
  {
   "cell_type": "code",
   "execution_count": 3,
   "metadata": {},
   "outputs": [],
   "source": [
    "def search(query):\n",
    "    Entrez.email = your_entrez_email\n",
    "    handle = Entrez.esearch(db='pubmed', sort='name', retmax=articles_count, retmode='xml', term=query)\n",
    "    results = Entrez.read(handle)\n",
    "    return results"
   ]
  },
  {
   "cell_type": "code",
   "execution_count": 4,
   "metadata": {},
   "outputs": [],
   "source": [
    "def fetch_details(id_list):\n",
    "    ids = ','.join(id_list)\n",
    "    Entrez.email = your_entrez_email\n",
    "    handle = Entrez.efetch(db='pubmed', retmode='xml', id=ids)\n",
    "    results = Entrez.read(handle)\n",
    "    return results"
   ]
  },
  {
   "cell_type": "markdown",
   "metadata": {},
   "source": [
    "### Get neccesary information and collect founded data to dataframe"
   ]
  },
  {
   "cell_type": "code",
   "execution_count": 5,
   "metadata": {},
   "outputs": [],
   "source": [
    "def get_abstract(article):\n",
    "    try:\n",
    "        background_abstract = str(article['MedlineCitation']['Article']['Abstract']['AbstractText'][0])\n",
    "    except KeyError:\n",
    "        background_abstract = 'Abstract not found'\n",
    "    return background_abstract"
   ]
  },
  {
   "cell_type": "code",
   "execution_count": 6,
   "metadata": {},
   "outputs": [],
   "source": [
    "def get_keywords(article):\n",
    "    key_word_list = []\n",
    "    try:\n",
    "        key_words = article['MedlineCitation']['KeywordList'][0]\n",
    "\n",
    "        for key_word in key_words:\n",
    "            key_word_list.append(str(key_word))\n",
    "            \n",
    "    except (KeyError, IndexError):\n",
    "        pass\n",
    "        \n",
    "    return key_word_list"
   ]
  },
  {
   "cell_type": "code",
   "execution_count": 7,
   "metadata": {},
   "outputs": [],
   "source": [
    "def get_article_date(article):\n",
    "    try:\n",
    "        article_date = article['MedlineCitation']['DateCompleted']\n",
    "        article_date = eval(str(article_date))\n",
    "        article_date = date(int(article_date['Year']), int(article_date['Month']), int(article_date['Day']))\n",
    "    except KeyError:\n",
    "        return ''\n",
    "        \n",
    "    return article_date"
   ]
  },
  {
   "cell_type": "code",
   "execution_count": 8,
   "metadata": {},
   "outputs": [],
   "source": [
    "def get_title(article):\n",
    "    return article['MedlineCitation']['Article']['ArticleTitle']"
   ]
  },
  {
   "cell_type": "code",
   "execution_count": 9,
   "metadata": {},
   "outputs": [],
   "source": [
    "def get_id(article):\n",
    "    return int(article['MedlineCitation']['PMID'])"
   ]
  },
  {
   "cell_type": "code",
   "execution_count": 5,
   "metadata": {},
   "outputs": [],
   "source": [
    "### If you don't want to waiting for download articles, you can use saved (breast_cancer_data.csv)\n",
    "# data = pd.read_csv('breast_cancer_data.csv')"
   ]
  },
  {
   "cell_type": "code",
   "execution_count": 15,
   "metadata": {},
   "outputs": [],
   "source": [
    "keyword = 'breast cancer'\n",
    "\n",
    "result = search(keyword)\n",
    "id_list = result['IdList']\n",
    "details = fetch_details(id_list)"
   ]
  },
  {
   "cell_type": "code",
   "execution_count": 11,
   "metadata": {
    "collapsed": true
   },
   "outputs": [
    {
     "ename": "NameError",
     "evalue": "name 'details' is not defined",
     "output_type": "error",
     "traceback": [
      "\u001b[1;31m---------------------------------------------------------------------------\u001b[0m",
      "\u001b[1;31mNameError\u001b[0m                                 Traceback (most recent call last)",
      "\u001b[1;32m<ipython-input-11-ecf10015bf9b>\u001b[0m in \u001b[0;36m<module>\u001b[1;34m\u001b[0m\n\u001b[0;32m      4\u001b[0m \u001b[0mkey_words\u001b[0m \u001b[1;33m=\u001b[0m \u001b[1;33m[\u001b[0m\u001b[1;33m]\u001b[0m\u001b[1;33m\u001b[0m\u001b[1;33m\u001b[0m\u001b[0m\n\u001b[0;32m      5\u001b[0m \u001b[0mabstracts\u001b[0m \u001b[1;33m=\u001b[0m \u001b[1;33m[\u001b[0m\u001b[1;33m]\u001b[0m\u001b[1;33m\u001b[0m\u001b[1;33m\u001b[0m\u001b[0m\n\u001b[1;32m----> 6\u001b[1;33m \u001b[1;32mfor\u001b[0m \u001b[0mi\u001b[0m \u001b[1;32min\u001b[0m \u001b[0mrange\u001b[0m\u001b[1;33m(\u001b[0m\u001b[1;36m0\u001b[0m\u001b[1;33m,\u001b[0m \u001b[0mlen\u001b[0m\u001b[1;33m(\u001b[0m\u001b[0mdetails\u001b[0m\u001b[1;33m[\u001b[0m\u001b[1;34m'PubmedArticle'\u001b[0m\u001b[1;33m]\u001b[0m\u001b[1;33m)\u001b[0m\u001b[1;33m)\u001b[0m\u001b[1;33m:\u001b[0m\u001b[1;33m\u001b[0m\u001b[1;33m\u001b[0m\u001b[0m\n\u001b[0m\u001b[0;32m      7\u001b[0m     \u001b[0mids\u001b[0m\u001b[1;33m.\u001b[0m\u001b[0mappend\u001b[0m\u001b[1;33m(\u001b[0m\u001b[0mget_id\u001b[0m\u001b[1;33m(\u001b[0m\u001b[0mdetails\u001b[0m\u001b[1;33m[\u001b[0m\u001b[1;34m'PubmedArticle'\u001b[0m\u001b[1;33m]\u001b[0m\u001b[1;33m[\u001b[0m\u001b[0mi\u001b[0m\u001b[1;33m]\u001b[0m\u001b[1;33m)\u001b[0m\u001b[1;33m)\u001b[0m\u001b[1;33m\u001b[0m\u001b[1;33m\u001b[0m\u001b[0m\n\u001b[0;32m      8\u001b[0m     \u001b[0mtitles\u001b[0m\u001b[1;33m.\u001b[0m\u001b[0mappend\u001b[0m\u001b[1;33m(\u001b[0m\u001b[0mget_title\u001b[0m\u001b[1;33m(\u001b[0m\u001b[0mdetails\u001b[0m\u001b[1;33m[\u001b[0m\u001b[1;34m'PubmedArticle'\u001b[0m\u001b[1;33m]\u001b[0m\u001b[1;33m[\u001b[0m\u001b[0mi\u001b[0m\u001b[1;33m]\u001b[0m\u001b[1;33m)\u001b[0m\u001b[1;33m)\u001b[0m\u001b[1;33m\u001b[0m\u001b[1;33m\u001b[0m\u001b[0m\n",
      "\u001b[1;31mNameError\u001b[0m: name 'details' is not defined"
     ]
    }
   ],
   "source": [
    "ids = []\n",
    "titles = []\n",
    "dates = []\n",
    "key_words = []\n",
    "abstracts = []\n",
    "for i in range(0, len(details['PubmedArticle'])):\n",
    "    article = details['PubmedArticle'][i]\n",
    "    ids.append(get_id(article))\n",
    "    titles.append(get_title(article))\n",
    "    dates.append(get_article_date(article))\n",
    "    key_words.append(get_keywords(article))\n",
    "    abstracts.append(get_abstract(article))"
   ]
  },
  {
   "cell_type": "code",
   "execution_count": 17,
   "metadata": {},
   "outputs": [],
   "source": [
    "data_dict = {\n",
    "    'id': ids,\n",
    "    'title': titles,\n",
    "    'date': dates,\n",
    "    'keywords': key_words,\n",
    "    'abstract': abstracts\n",
    "}\n",
    "data = pd.DataFrame(data_dict)"
   ]
  },
  {
   "cell_type": "code",
   "execution_count": 19,
   "metadata": {},
   "outputs": [],
   "source": [
    "# data.to_csv('breast_cancer_data.csv')"
   ]
  },
  {
   "cell_type": "code",
   "execution_count": 3,
   "metadata": {},
   "outputs": [],
   "source": [
    "### If you don't want to waiting for download articles, you can use saved (breast_cancer_data.csv)\n",
    "data = pd.read_csv('breast_cancer_data.csv')"
   ]
  },
  {
   "cell_type": "code",
   "execution_count": 4,
   "metadata": {},
   "outputs": [],
   "source": [
    "# Annotation for testing\n",
    "annotation = 'A method of care of patients with locally-advanced breast cancer consisting of using regional selective intraar- terial chemotherapy in the schedule of the complex (palliative) treatment is presented. Results of treatment showed an advantage in comparison with the application of traditional methods of the breast cancer treatment. The methodology on intra-arterial introduction of chemotherapeutic agents developed at Donetsk Regional Antitumoral Center and Uni- versity clinic of Odessa showed its undisputable contribution into development of modern oncology through decrease of primary tumoral locus, transition from inoperable state into the state at which it is possible to perform the radical volume of surgical interference to patient. The special attention is paid to development of new methods of treating BC patients (regional forms of disease) with unfavorable factors for forecast of tumor growth.'\n",
    "annotation_2 = 'This multicenter study assessed breast cancer screening uptake in 461 unaffected women at increased risk of developing breast cancer on the basis of family history who approached familial cancer clinics for advice about surveillance options. At the time of attending the clinic, 89% and 90% of participants were vigilant with respect to age- and risk-specific recommendations for mammography and clinical breast examination, respectively, and 51% reported practicing breast self-examination monthly or more frequently. The degree to which health outcomes are perceived to be under one personal control (χ2=-2.09, p=0.0037) and breast cancer anxiety (χ2=8.11,p=0.044) were both associated with monthly or more frequent breast self-examination, while there were no associations with sociodemographic characteristics. A significantly lower percentage (56%) of women aged <30 were vigilant with respect to mammography recommendations, compared to 77%, 96% and 98% of women aged 30-39, 40-49 and >50, respectively (χ2=37.2,p<0.0001). These relatively low rates of mammographic screening in young women may reflect concerns about increased cancer risk associated with early and repeated radiation exposure or lack of sensitivity in young women with radiographically dense breasts. If mammographic screening is ultimately shown to lower mortality in women at high risk, there will be a strong case to promote screening in young women. The need for regular mammographic screening would then need to be highlighted and reinforced amongst young women and their referring physicians. Awareness amongst general practitioners, who are largely responsible for referral to screening services, would also need to be increased.'"
   ]
  },
  {
   "cell_type": "code",
   "execution_count": 7,
   "metadata": {},
   "outputs": [],
   "source": [
    "x = data.abstract\n",
    "x = x.where(x != 'Abstract not found').dropna()\n",
    "x = x.append(pd.Series(annotation, index=[articles_count + 1]))"
   ]
  },
  {
   "cell_type": "code",
   "execution_count": 9,
   "metadata": {},
   "outputs": [],
   "source": [
    "tfidf_vectorizer = TfidfVectorizer(stop_words='english', ngram_range=(1, 2), min_df=0.2, max_df=0.9)\n",
    "tfidf = tfidf_vectorizer.fit_transform(x)"
   ]
  },
  {
   "cell_type": "code",
   "execution_count": null,
   "metadata": {},
   "outputs": [],
   "source": [
    "# Display more important words\n",
    "# pd.DataFrame(tfidf[65].T.todense(), index=tfidf_vectorizer.get_feature_names(), columns=['tfidf']). \\\n",
    "#     sort_values(by=['tfidf'], ascending=False)"
   ]
  },
  {
   "cell_type": "code",
   "execution_count": 10,
   "metadata": {},
   "outputs": [],
   "source": [
    "similarity_matrix = (tfidf * tfidf.T).A\n",
    "similarity = similarity_matrix[-1][0:len(similarity_matrix) - 1]\n",
    "similarity_sorted = np.sort(similarity)"
   ]
  },
  {
   "cell_type": "code",
   "execution_count": 11,
   "metadata": {},
   "outputs": [],
   "source": [
    "top = similarity_sorted[len(similarity_sorted) - similar_art_count:]\n",
    "index_list = np.where(np.isin(similarity, top) == True)[0]"
   ]
  },
  {
   "cell_type": "code",
   "execution_count": 12,
   "metadata": {},
   "outputs": [],
   "source": [
    "result = data[np.isin(data.index, index_list)]"
   ]
  },
  {
   "cell_type": "code",
   "execution_count": 13,
   "metadata": {},
   "outputs": [],
   "source": [
    "result.to_csv('result.csv')"
   ]
  },
  {
   "cell_type": "code",
   "execution_count": null,
   "metadata": {},
   "outputs": [],
   "source": []
  }
 ],
 "metadata": {
  "kernelspec": {
   "display_name": "Python 3",
   "language": "python",
   "name": "python3"
  },
  "language_info": {
   "codemirror_mode": {
    "name": "ipython",
    "version": 3
   },
   "file_extension": ".py",
   "mimetype": "text/x-python",
   "name": "python",
   "nbconvert_exporter": "python",
   "pygments_lexer": "ipython3",
   "version": "3.7.4"
  }
 },
 "nbformat": 4,
 "nbformat_minor": 2
}
